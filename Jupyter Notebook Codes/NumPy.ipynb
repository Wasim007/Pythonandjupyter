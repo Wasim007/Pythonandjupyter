{
 "cells": [
  {
   "cell_type": "code",
   "execution_count": 2,
   "id": "e6847090",
   "metadata": {},
   "outputs": [],
   "source": [
    "import numpy as np   # importing library of numpy"
   ]
  },
  {
   "cell_type": "code",
   "execution_count": 11,
   "id": "56c92aea",
   "metadata": {},
   "outputs": [
    {
     "data": {
      "text/plain": [
       "array([ 1,  3,  4,  5, 77])"
      ]
     },
     "execution_count": 11,
     "metadata": {},
     "output_type": "execute_result"
    }
   ],
   "source": [
    "a = np.array([1,3,4,5,77])  # initializing array of a and then print the array\n",
    "a\n"
   ]
  },
  {
   "cell_type": "code",
   "execution_count": 12,
   "id": "b37ee945",
   "metadata": {},
   "outputs": [
    {
     "data": {
      "text/plain": [
       "numpy.ndarray"
      ]
     },
     "execution_count": 12,
     "metadata": {},
     "output_type": "execute_result"
    }
   ],
   "source": [
    "type(a)   # checking type of array = one dimension array or vector    1dimension array= vector"
   ]
  },
  {
   "cell_type": "code",
   "execution_count": 13,
   "id": "e195e317",
   "metadata": {},
   "outputs": [
    {
     "data": {
      "text/plain": [
       "5"
      ]
     },
     "execution_count": 13,
     "metadata": {},
     "output_type": "execute_result"
    }
   ],
   "source": [
    "len(a) # checking the how many element is present in the array`"
   ]
  },
  {
   "cell_type": "code",
   "execution_count": 32,
   "id": "e29c4604",
   "metadata": {},
   "outputs": [
    {
     "data": {
      "text/plain": [
       "5"
      ]
     },
     "execution_count": 32,
     "metadata": {},
     "output_type": "execute_result"
    }
   ],
   "source": [
    "a[3] # checking the element on the 3 place"
   ]
  },
  {
   "cell_type": "code",
   "execution_count": 33,
   "id": "debb03ef",
   "metadata": {},
   "outputs": [
    {
     "data": {
      "text/plain": [
       "array([ 4,  5, 77])"
      ]
     },
     "execution_count": 33,
     "metadata": {},
     "output_type": "execute_result"
    }
   ],
   "source": [
    "a[2:] # printing the elements from place 2 to last place i.e total 5 elements from 2 to 5 print elements"
   ]
  },
  {
   "cell_type": "code",
   "execution_count": 24,
   "id": "410b25a9",
   "metadata": {},
   "outputs": [
    {
     "data": {
      "text/plain": [
       "array([[ 1,  2,  3,  4,  5],\n",
       "       [ 6,  7,  8,  9, 10],\n",
       "       [11, 12, 13, 14, 15]])"
      ]
     },
     "execution_count": 24,
     "metadata": {},
     "output_type": "execute_result"
    }
   ],
   "source": [
    "b = np.array([[1,2,3,4,5], [6,7,8,9,10], [11,12,13,14,15]])\n",
    "b"
   ]
  },
  {
   "cell_type": "code",
   "execution_count": 18,
   "id": "d59b6ecc",
   "metadata": {},
   "outputs": [
    {
     "data": {
      "text/plain": [
       "numpy.ndarray"
      ]
     },
     "execution_count": 18,
     "metadata": {},
     "output_type": "execute_result"
    }
   ],
   "source": [
    "type(b) # nd.array means 1dimension array and 2dimension array"
   ]
  },
  {
   "cell_type": "code",
   "execution_count": 19,
   "id": "e21fa739",
   "metadata": {},
   "outputs": [
    {
     "data": {
      "text/plain": [
       "3"
      ]
     },
     "execution_count": 19,
     "metadata": {},
     "output_type": "execute_result"
    }
   ],
   "source": [
    "len(b)"
   ]
  },
  {
   "cell_type": "code",
   "execution_count": 35,
   "id": "4bc4d892",
   "metadata": {},
   "outputs": [
    {
     "data": {
      "text/plain": [
       "array([11, 12, 13, 14, 15])"
      ]
     },
     "execution_count": 35,
     "metadata": {},
     "output_type": "execute_result"
    }
   ],
   "source": [
    "b[2]"
   ]
  },
  {
   "cell_type": "code",
   "execution_count": 38,
   "id": "7866e417",
   "metadata": {},
   "outputs": [
    {
     "data": {
      "text/plain": [
       "array([[ 1,  2,  3,  4,  5],\n",
       "       [ 6,  7,  8,  9, 10],\n",
       "       [11, 12, 13, 14, 15]])"
      ]
     },
     "execution_count": 38,
     "metadata": {},
     "output_type": "execute_result"
    }
   ],
   "source": [
    "b[0:3] # printing the total elements in array"
   ]
  },
  {
   "cell_type": "code",
   "execution_count": 46,
   "id": "59bcef1a",
   "metadata": {},
   "outputs": [
    {
     "data": {
      "text/plain": [
       "array([[1, 2, 3],\n",
       "       [4, 5, 6],\n",
       "       [7, 8, 9],\n",
       "       [1, 2, 3],\n",
       "       [4, 5, 6],\n",
       "       [7, 8, 9],\n",
       "       [1, 2, 3],\n",
       "       [4, 5, 6],\n",
       "       [7, 8, 9]])"
      ]
     },
     "execution_count": 46,
     "metadata": {},
     "output_type": "execute_result"
    }
   ],
   "source": [
    "c = np.array([[1,2,3],[4,5,6],[7,8,9],\n",
    "              [1,2,3],[4,5,6],[7,8,9],\n",
    "              [1,2,3],[4,5,6],[7,8,9]])\n",
    "c"
   ]
  },
  {
   "cell_type": "code",
   "execution_count": 43,
   "id": "bb0319df",
   "metadata": {},
   "outputs": [
    {
     "data": {
      "text/plain": [
       "numpy.ndarray"
      ]
     },
     "execution_count": 43,
     "metadata": {},
     "output_type": "execute_result"
    }
   ],
   "source": [
    "type(c)"
   ]
  },
  {
   "cell_type": "code",
   "execution_count": 44,
   "id": "8bcdfaa4",
   "metadata": {},
   "outputs": [
    {
     "data": {
      "text/plain": [
       "9"
      ]
     },
     "execution_count": 44,
     "metadata": {},
     "output_type": "execute_result"
    }
   ],
   "source": [
    "len(c)"
   ]
  },
  {
   "cell_type": "code",
   "execution_count": 57,
   "id": "b492d3b2",
   "metadata": {},
   "outputs": [
    {
     "data": {
      "text/plain": [
       "array([[[ 0,  1,  2,  3],\n",
       "        [ 4,  5,  6,  7],\n",
       "        [ 8,  9, 10, 11]],\n",
       "\n",
       "       [[12, 13, 14, 15],\n",
       "        [16, 17, 18, 19],\n",
       "        [20, 21, 22, 23]]])"
      ]
     },
     "execution_count": 57,
     "metadata": {},
     "output_type": "execute_result"
    }
   ],
   "source": [
    "n = np.arange(24).reshape(2,3,4)\n",
    "n"
   ]
  },
  {
   "cell_type": "code",
   "execution_count": 49,
   "id": "5a90470e",
   "metadata": {},
   "outputs": [
    {
     "data": {
      "text/plain": [
       "numpy.ndarray"
      ]
     },
     "execution_count": 49,
     "metadata": {},
     "output_type": "execute_result"
    }
   ],
   "source": [
    "type(n)"
   ]
  },
  {
   "cell_type": "code",
   "execution_count": 46,
   "id": "457e54ae",
   "metadata": {},
   "outputs": [
    {
     "data": {
      "text/plain": [
       "array(['raita', 'biryani', 'qurma', 'pakorray'], dtype='<U8')"
      ]
     },
     "execution_count": 46,
     "metadata": {},
     "output_type": "execute_result"
    }
   ],
   "source": [
    "food = np.array([\"raita\",\"biryani\",\"qurma\",\"pakorray\"]) # 1D array\n",
    "food"
   ]
  },
  {
   "cell_type": "code",
   "execution_count": 47,
   "id": "8f692106",
   "metadata": {},
   "outputs": [
    {
     "data": {
      "text/plain": [
       "array([ 10, 100, 300,  50])"
      ]
     },
     "execution_count": 47,
     "metadata": {},
     "output_type": "execute_result"
    }
   ],
   "source": [
    "food_price = np.array([10,100,300,50])  #1D array\n",
    "food_price"
   ]
  },
  {
   "cell_type": "code",
   "execution_count": 48,
   "id": "c1823dd5",
   "metadata": {},
   "outputs": [
    {
     "data": {
      "text/plain": [
       "4"
      ]
     },
     "execution_count": 48,
     "metadata": {},
     "output_type": "execute_result"
    }
   ],
   "source": [
    "len(food) #length of elements in food array "
   ]
  },
  {
   "cell_type": "code",
   "execution_count": 49,
   "id": "a9d8cf78",
   "metadata": {},
   "outputs": [
    {
     "data": {
      "text/plain": [
       "4"
      ]
     },
     "execution_count": 49,
     "metadata": {},
     "output_type": "execute_result"
    }
   ],
   "source": [
    "len(food_price) #length of elements in food_price array "
   ]
  },
  {
   "cell_type": "code",
   "execution_count": 50,
   "id": "d5523f37",
   "metadata": {},
   "outputs": [
    {
     "data": {
      "text/plain": [
       "'qurma'"
      ]
     },
     "execution_count": 50,
     "metadata": {},
     "output_type": "execute_result"
    }
   ],
   "source": [
    "food[2] # element on 2 place in food array "
   ]
  },
  {
   "cell_type": "code",
   "execution_count": 51,
   "id": "f74686bc",
   "metadata": {},
   "outputs": [
    {
     "data": {
      "text/plain": [
       "50"
      ]
     },
     "execution_count": 51,
     "metadata": {},
     "output_type": "execute_result"
    }
   ],
   "source": [
    "food_price[3] #element on 3 place in food array "
   ]
  },
  {
   "cell_type": "code",
   "execution_count": 52,
   "id": "77357810",
   "metadata": {},
   "outputs": [
    {
     "data": {
      "text/plain": [
       "115.0"
      ]
     },
     "execution_count": 52,
     "metadata": {},
     "output_type": "execute_result"
    }
   ],
   "source": [
    "food_price.mean() # finding mean of food_price array"
   ]
  },
  {
   "cell_type": "code",
   "execution_count": 53,
   "id": "4e0583a7",
   "metadata": {},
   "outputs": [
    {
     "data": {
      "text/plain": [
       "300"
      ]
     },
     "execution_count": 53,
     "metadata": {},
     "output_type": "execute_result"
    }
   ],
   "source": [
    "food_price.max() # max value in food_price array"
   ]
  },
  {
   "cell_type": "code",
   "execution_count": 59,
   "id": "d8453a92",
   "metadata": {},
   "outputs": [
    {
     "data": {
      "text/plain": [
       "460"
      ]
     },
     "execution_count": 59,
     "metadata": {},
     "output_type": "execute_result"
    }
   ],
   "source": [
    "food_price.sum() # sum of all the elements in food_price array"
   ]
  },
  {
   "cell_type": "code",
   "execution_count": 66,
   "id": "407554cb",
   "metadata": {},
   "outputs": [
    {
     "data": {
      "text/plain": [
       "array([0., 0., 0., 0., 0., 0., 0., 0., 0., 0.])"
      ]
     },
     "execution_count": 66,
     "metadata": {},
     "output_type": "execute_result"
    }
   ],
   "source": [
    "np.zeros(10)     # defining array automatically with 0 elements whatever you want i.e (10) or (200)"
   ]
  },
  {
   "cell_type": "code",
   "execution_count": 67,
   "id": "8e874dc2",
   "metadata": {},
   "outputs": [
    {
     "data": {
      "text/plain": [
       "array([1., 1., 1., 1., 1., 1., 1., 1., 1., 1., 1., 1., 1., 1., 1., 1., 1.,\n",
       "       1., 1., 1.])"
      ]
     },
     "execution_count": 67,
     "metadata": {},
     "output_type": "execute_result"
    }
   ],
   "source": [
    "np.ones(20) # defining array automatically with 1 elements whatever you want i.e (20) or (200)"
   ]
  },
  {
   "cell_type": "code",
   "execution_count": 69,
   "id": "a8c80033",
   "metadata": {},
   "outputs": [
    {
     "data": {
      "text/plain": [
       "array([0., 0., 0., 0., 0., 0., 0., 0., 0., 0.])"
      ]
     },
     "execution_count": 69,
     "metadata": {},
     "output_type": "execute_result"
    }
   ],
   "source": [
    "np.empty(10) # defining empty array of 10 elements"
   ]
  },
  {
   "cell_type": "code",
   "execution_count": 70,
   "id": "2ab059b4",
   "metadata": {},
   "outputs": [
    {
     "data": {
      "text/plain": [
       "array([ 0,  1,  2,  3,  4,  5,  6,  7,  8,  9, 10, 11, 12, 13, 14, 15, 16,\n",
       "       17, 18, 19, 20, 21, 22, 23, 24, 25, 26, 27, 28, 29, 30, 31, 32, 33,\n",
       "       34, 35, 36, 37, 38, 39, 40, 41, 42, 43, 44, 45, 46, 47, 48, 49, 50,\n",
       "       51, 52, 53, 54, 55, 56, 57, 58, 59, 60, 61, 62, 63, 64, 65, 66, 67,\n",
       "       68, 69, 70, 71, 72, 73, 74, 75, 76, 77, 78, 79, 80, 81, 82, 83, 84,\n",
       "       85, 86, 87, 88, 89, 90, 91, 92, 93, 94, 95, 96, 97, 98, 99])"
      ]
     },
     "execution_count": 70,
     "metadata": {},
     "output_type": "execute_result"
    }
   ],
   "source": [
    "np.arange(100) # defining array of 100 elements automatically"
   ]
  },
  {
   "cell_type": "code",
   "execution_count": 75,
   "id": "3e8fd7be",
   "metadata": {},
   "outputs": [
    {
     "data": {
      "text/plain": [
       "array([ 2,  3,  4,  5,  6,  7,  8,  9, 10, 11, 12, 13, 14, 15, 16, 17, 18,\n",
       "       19])"
      ]
     },
     "execution_count": 75,
     "metadata": {},
     "output_type": "execute_result"
    }
   ],
   "source": [
    "np.arange(2,20) # definig array automatically start from 2 and goes to 20 elements."
   ]
  },
  {
   "cell_type": "code",
   "execution_count": 83,
   "id": "fdf3ce0c",
   "metadata": {},
   "outputs": [
    {
     "data": {
      "text/plain": [
       "array([ 2,  4,  6,  8, 10, 12, 14, 16, 18, 20, 22, 24, 26, 28, 30, 32, 34,\n",
       "       36, 38, 40, 42, 44, 46, 48, 50, 52, 54, 56, 58, 60, 62, 64, 66, 68,\n",
       "       70, 72, 74, 76, 78, 80, 82, 84, 86, 88, 90, 92, 94, 96, 98])"
      ]
     },
     "execution_count": 83,
     "metadata": {},
     "output_type": "execute_result"
    }
   ],
   "source": [
    "np.arange(2,100,2,) #definig array automatically start from 2 and goes to 100 elements and skip 2 elements amoung them"
   ]
  },
  {
   "cell_type": "code",
   "execution_count": 93,
   "id": "ab1e3a47",
   "metadata": {},
   "outputs": [
    {
     "data": {
      "text/plain": [
       "array([  0.        ,   2.04081633,   4.08163265,   6.12244898,\n",
       "         8.16326531,  10.20408163,  12.24489796,  14.28571429,\n",
       "        16.32653061,  18.36734694,  20.40816327,  22.44897959,\n",
       "        24.48979592,  26.53061224,  28.57142857,  30.6122449 ,\n",
       "        32.65306122,  34.69387755,  36.73469388,  38.7755102 ,\n",
       "        40.81632653,  42.85714286,  44.89795918,  46.93877551,\n",
       "        48.97959184,  51.02040816,  53.06122449,  55.10204082,\n",
       "        57.14285714,  59.18367347,  61.2244898 ,  63.26530612,\n",
       "        65.30612245,  67.34693878,  69.3877551 ,  71.42857143,\n",
       "        73.46938776,  75.51020408,  77.55102041,  79.59183673,\n",
       "        81.63265306,  83.67346939,  85.71428571,  87.75510204,\n",
       "        89.79591837,  91.83673469,  93.87755102,  95.91836735,\n",
       "        97.95918367, 100.        ])"
      ]
     },
     "execution_count": 93,
     "metadata": {},
     "output_type": "execute_result"
    }
   ],
   "source": [
    "np.linspace(0,100, num=50) # linespace"
   ]
  },
  {
   "cell_type": "code",
   "execution_count": 94,
   "id": "17c2ba80",
   "metadata": {},
   "outputs": [
    {
     "data": {
      "text/plain": [
       "array([1, 1, 1, 1, 1, 1, 1, 1, 1, 1, 1, 1, 1, 1, 1, 1, 1, 1, 1, 1])"
      ]
     },
     "execution_count": 94,
     "metadata": {},
     "output_type": "execute_result"
    }
   ],
   "source": [
    "np.ones(20, dtype=np.int32) # specifing datatype of an array of its elements into integer"
   ]
  },
  {
   "cell_type": "code",
   "execution_count": 96,
   "id": "f25970c6",
   "metadata": {},
   "outputs": [
    {
     "data": {
      "text/plain": [
       "array([1., 1., 1., 1., 1., 1., 1., 1., 1., 1., 1., 1., 1., 1., 1., 1., 1.,\n",
       "       1., 1., 1.])"
      ]
     },
     "execution_count": 96,
     "metadata": {},
     "output_type": "execute_result"
    }
   ],
   "source": [
    "np.ones(20, dtype=np.float64) # specifing datatype of an array of its elements into float"
   ]
  },
  {
   "cell_type": "code",
   "execution_count": 112,
   "id": "059d258b",
   "metadata": {},
   "outputs": [
    {
     "data": {
      "text/plain": [
       "array([23, 45, 68, 22, 56, 86, 24, 54])"
      ]
     },
     "execution_count": 112,
     "metadata": {},
     "output_type": "execute_result"
    }
   ],
   "source": [
    "w = np.array([23,45,68,22,56,86,24,54])\n",
    "w"
   ]
  },
  {
   "cell_type": "code",
   "execution_count": 123,
   "id": "a54af29f",
   "metadata": {},
   "outputs": [
    {
     "data": {
      "text/plain": [
       "array([  3,  45, 645,   7,   8,   8,   9,  55,   3])"
      ]
     },
     "execution_count": 123,
     "metadata": {},
     "output_type": "execute_result"
    }
   ],
   "source": [
    "o=np.array([3,45,645,7,8,8,9,55,3])\n",
    "o"
   ]
  },
  {
   "cell_type": "code",
   "execution_count": 116,
   "id": "f402a4d0",
   "metadata": {},
   "outputs": [
    {
     "data": {
      "text/plain": [
       "array([22, 23, 24, 45, 54, 56, 68, 86])"
      ]
     },
     "execution_count": 116,
     "metadata": {},
     "output_type": "execute_result"
    }
   ],
   "source": [
    "np.sort(w)"
   ]
  },
  {
   "cell_type": "code",
   "execution_count": 125,
   "id": "4d220664",
   "metadata": {},
   "outputs": [
    {
     "data": {
      "text/plain": [
       "array([  3,  45, 645,   7,   8,   8,   9,  55,   3,  23,  45,  68,  22,\n",
       "        56,  86,  24,  54])"
      ]
     },
     "execution_count": 125,
     "metadata": {},
     "output_type": "execute_result"
    }
   ],
   "source": [
    "np.concatenate((o,w))  # adding two array of o,w together."
   ]
  },
  {
   "cell_type": "markdown",
   "id": "fde9e05d",
   "metadata": {},
   "source": [
    "# 2-D Arrays"
   ]
  },
  {
   "cell_type": "code",
   "execution_count": 130,
   "id": "8e3e901a",
   "metadata": {},
   "outputs": [
    {
     "data": {
      "text/plain": [
       "array([[ 1,  2,  3,  4],\n",
       "       [ 5,  6,  7,  8],\n",
       "       [ 9, 10, 11, 12],\n",
       "       [13, 14, 15, 16]])"
      ]
     },
     "execution_count": 130,
     "metadata": {},
     "output_type": "execute_result"
    }
   ],
   "source": [
    "e = np.array([[1,2,3,4],[5,6,7,8],[9,10,11,12],[13,14,15,16]])\n",
    "e"
   ]
  },
  {
   "cell_type": "code",
   "execution_count": 131,
   "id": "b167c496",
   "metadata": {},
   "outputs": [
    {
     "data": {
      "text/plain": [
       "array([[2, 3, 4, 3],\n",
       "       [2, 6, 4, 3],\n",
       "       [2, 4, 8, 5],\n",
       "       [9, 0, 6, 4]])"
      ]
     },
     "execution_count": 131,
     "metadata": {},
     "output_type": "execute_result"
    }
   ],
   "source": [
    "f = np.array([[2,3,4,3],[2,6,4,3],[2,4,8,5],[9,0,6,4]])\n",
    "f"
   ]
  },
  {
   "cell_type": "code",
   "execution_count": 142,
   "id": "d3ffd024",
   "metadata": {},
   "outputs": [
    {
     "data": {
      "text/plain": [
       "array([[ 1,  2,  3,  4,  2,  3,  4,  3],\n",
       "       [ 5,  6,  7,  8,  2,  6,  4,  3],\n",
       "       [ 9, 10, 11, 12,  2,  4,  8,  5],\n",
       "       [13, 14, 15, 16,  9,  0,  6,  4]])"
      ]
     },
     "execution_count": 142,
     "metadata": {},
     "output_type": "execute_result"
    }
   ],
   "source": [
    "np.concatenate((e,f),axis=1) # adding two e,f 2-D array each other."
   ]
  },
  {
   "cell_type": "code",
   "execution_count": 143,
   "id": "b5eff210",
   "metadata": {},
   "outputs": [
    {
     "data": {
      "text/plain": [
       "2"
      ]
     },
     "execution_count": 143,
     "metadata": {},
     "output_type": "execute_result"
    }
   ],
   "source": [
    "np.ndim(f) #finding what \"f\" array are consists of dimensions i.e 1D, 2D, or 3D."
   ]
  },
  {
   "cell_type": "code",
   "execution_count": 144,
   "id": "0e1f2ccd",
   "metadata": {},
   "outputs": [
    {
     "data": {
      "text/plain": [
       "2"
      ]
     },
     "execution_count": 144,
     "metadata": {},
     "output_type": "execute_result"
    }
   ],
   "source": [
    "np.ndim(e) #finding what \"e\" array are consists of dimensions i.e 1D, 2D, or 3D."
   ]
  },
  {
   "cell_type": "markdown",
   "id": "2129c6b0",
   "metadata": {},
   "source": [
    "# 3-D Array"
   ]
  },
  {
   "cell_type": "code",
   "execution_count": 151,
   "id": "58d2bc61",
   "metadata": {},
   "outputs": [
    {
     "data": {
      "text/plain": [
       "array([[[1, 2, 3],\n",
       "        [4, 5, 6]],\n",
       "\n",
       "       [[3, 2, 1],\n",
       "        [6, 5, 4]],\n",
       "\n",
       "       [[2, 3, 1],\n",
       "        [7, 8, 9]]])"
      ]
     },
     "execution_count": 151,
     "metadata": {},
     "output_type": "execute_result"
    }
   ],
   "source": [
    "u = np.array([[[1,2,3],[4,5,6]],\n",
    "              \n",
    "             [[3,2,1],[6,5,4]],\n",
    "              \n",
    "             [[2,3,1],[7,8,9]]])\n",
    "u"
   ]
  },
  {
   "cell_type": "code",
   "execution_count": 152,
   "id": "f5ea2de3",
   "metadata": {},
   "outputs": [
    {
     "data": {
      "text/plain": [
       "3"
      ]
     },
     "execution_count": 152,
     "metadata": {},
     "output_type": "execute_result"
    }
   ],
   "source": [
    "np.ndim(u)"
   ]
  },
  {
   "cell_type": "code",
   "execution_count": 154,
   "id": "1c47fe00",
   "metadata": {},
   "outputs": [
    {
     "data": {
      "text/plain": [
       "18"
      ]
     },
     "execution_count": 154,
     "metadata": {},
     "output_type": "execute_result"
    }
   ],
   "source": [
    "np.size(u) # to find how many elements are avialed in \"u\" array."
   ]
  },
  {
   "cell_type": "code",
   "execution_count": 155,
   "id": "6f1dfa50",
   "metadata": {},
   "outputs": [
    {
     "data": {
      "text/plain": [
       "(3, 2, 3)"
      ]
     },
     "execution_count": 155,
     "metadata": {},
     "output_type": "execute_result"
    }
   ],
   "source": [
    "np.shape(u) # to find the shape means that 3by3 elements, two rows and three colums"
   ]
  },
  {
   "cell_type": "code",
   "execution_count": 176,
   "id": "6f1ff470",
   "metadata": {},
   "outputs": [
    {
     "data": {
      "text/plain": [
       "array([0, 1, 2, 3, 4, 5, 6, 7, 8])"
      ]
     },
     "execution_count": 176,
     "metadata": {},
     "output_type": "execute_result"
    }
   ],
   "source": [
    "v = np.arange(9)\n",
    "v\n"
   ]
  },
  {
   "cell_type": "code",
   "execution_count": 190,
   "id": "df95ed39",
   "metadata": {},
   "outputs": [
    {
     "data": {
      "text/plain": [
       "array([[0, 1, 2],\n",
       "       [3, 4, 5],\n",
       "       [6, 7, 8]])"
      ]
     },
     "execution_count": 190,
     "metadata": {},
     "output_type": "execute_result"
    }
   ],
   "source": [
    "p=v.reshape(3,3) # reshaping array of v into 3by3 order (3*3=9)\n",
    "p "
   ]
  },
  {
   "cell_type": "code",
   "execution_count": 4,
   "id": "15101306",
   "metadata": {},
   "outputs": [
    {
     "data": {
      "text/plain": [
       "array([ 0,  1,  2,  3,  4,  5,  6,  7,  8,  9, 10, 11, 12, 13, 14, 15, 16,\n",
       "       17, 18, 19, 20, 21, 22, 23, 24, 25, 26, 27, 28, 29, 30, 31, 32, 33,\n",
       "       34, 35, 36, 37, 38, 39, 40, 41, 42, 43, 44, 45, 46, 47, 48])"
      ]
     },
     "execution_count": 4,
     "metadata": {},
     "output_type": "execute_result"
    }
   ],
   "source": [
    "o = np.arange(49)\n",
    "o"
   ]
  },
  {
   "cell_type": "code",
   "execution_count": 6,
   "id": "7d8c2dce",
   "metadata": {},
   "outputs": [
    {
     "data": {
      "text/plain": [
       "array([[ 0,  1,  2,  3,  4,  5,  6],\n",
       "       [ 7,  8,  9, 10, 11, 12, 13],\n",
       "       [14, 15, 16, 17, 18, 19, 20],\n",
       "       [21, 22, 23, 24, 25, 26, 27],\n",
       "       [28, 29, 30, 31, 32, 33, 34],\n",
       "       [35, 36, 37, 38, 39, 40, 41],\n",
       "       [42, 43, 44, 45, 46, 47, 48]])"
      ]
     },
     "execution_count": 6,
     "metadata": {},
     "output_type": "execute_result"
    }
   ],
   "source": [
    "o.reshape(7,7) # Reshaping the array to  7*7   i.e 7 Rows and 7 culomns"
   ]
  },
  {
   "cell_type": "code",
   "execution_count": 8,
   "id": "3284603a",
   "metadata": {},
   "outputs": [
    {
     "data": {
      "text/plain": [
       "array([[1, 2, 3, 4],\n",
       "       [5, 6, 7, 8],\n",
       "       [1, 2, 3, 4]])"
      ]
     },
     "execution_count": 8,
     "metadata": {},
     "output_type": "execute_result"
    }
   ],
   "source": [
    "u = np.array([[1,2,3,4],\n",
    "      [5,6,7,8],\n",
    "      [1,2,3,4]])\n",
    "u"
   ]
  },
  {
   "cell_type": "code",
   "execution_count": 12,
   "id": "1a46d2c6",
   "metadata": {},
   "outputs": [
    {
     "data": {
      "text/plain": [
       "2"
      ]
     },
     "execution_count": 12,
     "metadata": {},
     "output_type": "execute_result"
    }
   ],
   "source": [
    "np.ndim(u)"
   ]
  },
  {
   "cell_type": "code",
   "execution_count": 16,
   "id": "e0f7588e",
   "metadata": {},
   "outputs": [
    {
     "data": {
      "text/plain": [
       "array([[1, 2, 3, 4, 5, 6, 7, 8, 1, 2, 3, 4]])"
      ]
     },
     "execution_count": 16,
     "metadata": {},
     "output_type": "execute_result"
    }
   ],
   "source": [
    "np.reshape(u, newshape=(1,12), order='c')   # ordering and new shape to the \"u\" array"
   ]
  },
  {
   "cell_type": "code",
   "execution_count": null,
   "id": "9d8a7b37",
   "metadata": {},
   "outputs": [],
   "source": [
    "# 1D array into 2D`"
   ]
  },
  {
   "cell_type": "code",
   "execution_count": 17,
   "id": "52ffbafe",
   "metadata": {},
   "outputs": [
    {
     "data": {
      "text/plain": [
       "array([1, 2, 3, 4, 5, 6, 7, 8, 9])"
      ]
     },
     "execution_count": 17,
     "metadata": {},
     "output_type": "execute_result"
    }
   ],
   "source": [
    "i = np.array([1,2,3,4,5,6,7,8,9])\n",
    "i"
   ]
  },
  {
   "cell_type": "code",
   "execution_count": 18,
   "id": "52f5de93",
   "metadata": {},
   "outputs": [
    {
     "data": {
      "text/plain": [
       "(9,)"
      ]
     },
     "execution_count": 18,
     "metadata": {},
     "output_type": "execute_result"
    }
   ],
   "source": [
    "np.shape(i)"
   ]
  },
  {
   "cell_type": "code",
   "execution_count": 25,
   "id": "ad0b567c",
   "metadata": {},
   "outputs": [
    {
     "data": {
      "text/plain": [
       "array([[1],\n",
       "       [2],\n",
       "       [3],\n",
       "       [4],\n",
       "       [5],\n",
       "       [6],\n",
       "       [7],\n",
       "       [8],\n",
       "       [9]])"
      ]
     },
     "execution_count": 25,
     "metadata": {},
     "output_type": "execute_result"
    }
   ],
   "source": [
    "p=i[:,np.newaxis]  #1D array to 2D (culomn wise )\n",
    "p"
   ]
  },
  {
   "cell_type": "code",
   "execution_count": 24,
   "id": "035f107a",
   "metadata": {},
   "outputs": [
    {
     "data": {
      "text/plain": [
       "(1, 9)"
      ]
     },
     "execution_count": 24,
     "metadata": {},
     "output_type": "execute_result"
    }
   ],
   "source": [
    "np.shape(p) # Shape of array"
   ]
  },
  {
   "cell_type": "code",
   "execution_count": 26,
   "id": "e0cc03c3",
   "metadata": {},
   "outputs": [
    {
     "data": {
      "text/plain": [
       "array([[1, 2, 3, 4, 5, 6, 7, 8, 9]])"
      ]
     },
     "execution_count": 26,
     "metadata": {},
     "output_type": "execute_result"
    }
   ],
   "source": [
    "p=i[np.newaxis,:]  #1D array to 2D (Row wise )\n",
    "p"
   ]
  },
  {
   "cell_type": "code",
   "execution_count": 28,
   "id": "5288f15d",
   "metadata": {},
   "outputs": [
    {
     "data": {
      "text/plain": [
       "array([ 0,  1,  2,  3,  4,  5,  6,  7,  8,  9, 10, 11, 12, 13, 14, 15, 16,\n",
       "       17, 18, 19, 20, 21, 22, 23, 24])"
      ]
     },
     "execution_count": 28,
     "metadata": {},
     "output_type": "execute_result"
    }
   ],
   "source": [
    "p=np.arange(25)\n",
    "p"
   ]
  },
  {
   "cell_type": "code",
   "execution_count": 32,
   "id": "80a25ff8",
   "metadata": {},
   "outputs": [
    {
     "data": {
      "text/plain": [
       "array([ 3,  4,  5,  6,  7,  8,  9, 10, 11, 12, 13, 14, 15])"
      ]
     },
     "execution_count": 32,
     "metadata": {},
     "output_type": "execute_result"
    }
   ],
   "source": [
    "p[3:16] # Slicing of 3 to 16 elements of \"p\" array"
   ]
  },
  {
   "cell_type": "code",
   "execution_count": 33,
   "id": "5eb526e2",
   "metadata": {},
   "outputs": [
    {
     "data": {
      "text/plain": [
       "array([ 0,  1,  2,  3,  4,  5,  6,  7,  8,  9, 10, 11, 12, 13, 14, 15, 16,\n",
       "       17, 18, 19, 20, 21, 22, 23, 24])"
      ]
     },
     "execution_count": 33,
     "metadata": {},
     "output_type": "execute_result"
    }
   ],
   "source": [
    "p"
   ]
  },
  {
   "cell_type": "code",
   "execution_count": 35,
   "id": "f166cece",
   "metadata": {},
   "outputs": [
    {
     "data": {
      "text/plain": [
       "array([   0,   50,  100,  150,  200,  250,  300,  350,  400,  450,  500,\n",
       "        550,  600,  650,  700,  750,  800,  850,  900,  950, 1000, 1050,\n",
       "       1100, 1150, 1200])"
      ]
     },
     "execution_count": 35,
     "metadata": {},
     "output_type": "execute_result"
    }
   ],
   "source": [
    "p*50 # multiplying 50 to \"p\" array"
   ]
  },
  {
   "cell_type": "code",
   "execution_count": 36,
   "id": "92c79675",
   "metadata": {},
   "outputs": [
    {
     "data": {
      "text/plain": [
       "array([50, 51, 52, 53, 54, 55, 56, 57, 58, 59, 60, 61, 62, 63, 64, 65, 66,\n",
       "       67, 68, 69, 70, 71, 72, 73, 74])"
      ]
     },
     "execution_count": 36,
     "metadata": {},
     "output_type": "execute_result"
    }
   ],
   "source": [
    "p+50 # adding 50 to \"p\" array"
   ]
  },
  {
   "cell_type": "code",
   "execution_count": 37,
   "id": "dd6c8bf0",
   "metadata": {},
   "outputs": [
    {
     "data": {
      "text/plain": [
       "300"
      ]
     },
     "execution_count": 37,
     "metadata": {},
     "output_type": "execute_result"
    }
   ],
   "source": [
    "np.sum(p) # sum all the elements of \"p\" array"
   ]
  },
  {
   "cell_type": "code",
   "execution_count": 38,
   "id": "ec3c5b81",
   "metadata": {},
   "outputs": [
    {
     "data": {
      "text/plain": [
       "12.0"
      ]
     },
     "execution_count": 38,
     "metadata": {},
     "output_type": "execute_result"
    }
   ],
   "source": [
    "np.mean(p) # finding mean of \"p\" array"
   ]
  },
  {
   "cell_type": "code",
   "execution_count": 49,
   "id": "609f9141",
   "metadata": {},
   "outputs": [
    {
     "data": {
      "text/plain": [
       "array([[ 33,  66,  54,  67,  43,  32,  67],\n",
       "       [ 33,  45,  32, 667, 888,  54, 897]])"
      ]
     },
     "execution_count": 49,
     "metadata": {},
     "output_type": "execute_result"
    }
   ],
   "source": [
    "h = np.array([[33,66,54,67,43,32,67],\n",
    "              [33,45,32,667,888,54,897]])\n",
    "h"
   ]
  },
  {
   "cell_type": "code",
   "execution_count": 50,
   "id": "c8d4e7f5",
   "metadata": {},
   "outputs": [
    {
     "data": {
      "text/plain": [
       "2"
      ]
     },
     "execution_count": 50,
     "metadata": {},
     "output_type": "execute_result"
    }
   ],
   "source": [
    "np.ndim(h)"
   ]
  },
  {
   "cell_type": "code",
   "execution_count": 52,
   "id": "b8012892",
   "metadata": {},
   "outputs": [
    {
     "data": {
      "text/plain": [
       "array([[ 16.5,  33. ,  27. ,  33.5,  21.5,  16. ,  33.5],\n",
       "       [ 16.5,  22.5,  16. , 333.5, 444. ,  27. , 448.5]])"
      ]
     },
     "execution_count": 52,
     "metadata": {},
     "output_type": "execute_result"
    }
   ],
   "source": [
    "np.divide(h,2) # divide by \"2\" of \"h\" array"
   ]
  },
  {
   "cell_type": "code",
   "execution_count": 58,
   "id": "de6291e4",
   "metadata": {},
   "outputs": [
    {
     "data": {
      "text/plain": [
       "array([[1, 2, 6, 3, 3, 0, 3],\n",
       "       [1, 5, 0, 3, 0, 6, 1]], dtype=int32)"
      ]
     },
     "execution_count": 58,
     "metadata": {},
     "output_type": "execute_result"
    }
   ],
   "source": [
    "np.remainder(h,8) # Remainder of array \"h\" of each elements"
   ]
  },
  {
   "cell_type": "code",
   "execution_count": 61,
   "id": "d075586b",
   "metadata": {},
   "outputs": [
    {
     "data": {
      "text/plain": [
       "array([ 33,  33,  66,  66,  54,  54,  67,  67,  43,  43,  32,  32,  67,\n",
       "        67,  33,  33,  45,  45,  32,  32, 667, 667, 888, 888,  54,  54,\n",
       "       897, 897])"
      ]
     },
     "execution_count": 61,
     "metadata": {},
     "output_type": "execute_result"
    }
   ],
   "source": [
    "np.repeat(h,2) # Repeat each elements \"2\" times of array [h] as shown below"
   ]
  }
 ],
 "metadata": {
  "kernelspec": {
   "display_name": "Python 3 (ipykernel)",
   "language": "python",
   "name": "python3"
  },
  "language_info": {
   "codemirror_mode": {
    "name": "ipython",
    "version": 3
   },
   "file_extension": ".py",
   "mimetype": "text/x-python",
   "name": "python",
   "nbconvert_exporter": "python",
   "pygments_lexer": "ipython3",
   "version": "3.9.7"
  }
 },
 "nbformat": 4,
 "nbformat_minor": 5
}
