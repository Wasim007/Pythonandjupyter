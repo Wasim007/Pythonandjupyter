{
 "cells": [
  {
   "cell_type": "markdown",
   "id": "ba77745e",
   "metadata": {},
   "source": [
    "# This is file of all python codes of chilla"
   ]
  },
  {
   "cell_type": "markdown",
   "id": "7ae886d9",
   "metadata": {},
   "source": [
    "### First code of python Language"
   ]
  },
  {
   "cell_type": "code",
   "execution_count": 1,
   "id": "7ffd8225",
   "metadata": {},
   "outputs": [
    {
     "name": "stdout",
     "output_type": "stream",
     "text": [
      "Hello World\n",
      "1000\n"
     ]
    }
   ],
   "source": [
    "print(\"Hello World\")\n",
    "print(400+600)"
   ]
  },
  {
   "cell_type": "markdown",
   "id": "5abba979",
   "metadata": {},
   "source": [
    "**2nd chapter operators and operands**"
   ]
  },
  {
   "cell_type": "code",
   "execution_count": 2,
   "id": "bfa84ecb",
   "metadata": {},
   "outputs": [
    {
     "name": "stdout",
     "output_type": "stream",
     "text": [
      "4\n",
      "4\n",
      "30\n",
      "3\n",
      "0\n",
      "81\n",
      "3.0\n",
      "30.555555555555557\n"
     ]
    }
   ],
   "source": [
    " print(2+2)\n",
    " print(6-2)\n",
    " print(6*5)\n",
    " print(6//2)  # \"//\" this operator is used for printing integer number otherwise it will print float number and single \"/\" is used for only division.\n",
    " print(6%2)   # This operator is used for Reminder.\n",
    " print(9**2)  # this double multiplication operator is used for square.\n",
    " print(6/2)\n",
    "\n",
    "# Note this that \"//\" and \"**\" operators are not print in the terminal if write in the terminal and all others operator are can be printed.\n",
    " \n",
    " print(8*8/9*5+4-9)\n",
    "\n",
    "# \"P.E.M.D.A.S\" (perenthisis) (exponent) (multiplication) (division) (addition) (subtraction)."
   ]
  },
  {
   "cell_type": "markdown",
   "id": "a58fbe16",
   "metadata": {},
   "source": [
    "**Strings and variables**"
   ]
  },
  {
   "cell_type": "code",
   "execution_count": 3,
   "id": "2602fdaf",
   "metadata": {},
   "outputs": [
    {
     "name": "stdout",
     "output_type": "stream",
     "text": [
      "Data Science is Love\n",
      "Hello World Whats up    guys   \n",
      "6\n",
      "780\n",
      "hello world\n",
      "6\n",
      "10\n",
      "<class 'str'>\n",
      "<class 'int'>\n",
      "('Mangoes', 'Apples and Dates')\n"
     ]
    }
   ],
   "source": [
    "print(\"Data Science is Love\") #To comment dail control+/)\n",
    "\n",
    "print('Hello World Whats up    guys   ')\n",
    "\n",
    "#Types of variable\n",
    "\n",
    "x=6\n",
    "print(x)\n",
    "\n",
    "a=0\n",
    "print(a+780)\n",
    "\n",
    "t=\"hello world\"      #string variable\n",
    "print(t)\n",
    "\n",
    "o=6\n",
    "print(o)\n",
    "\n",
    "o=o+4\n",
    "print(o)\n",
    "\n",
    "type(t)\n",
    "print(type(t))\n",
    "\n",
    "type(o)\n",
    "print(type(o))  #This functionn is used to check variable either integer or string etc.\n",
    "\n",
    "\n",
    "basket_fruit=\"Mangoes\", \"Apples and Dates\"\n",
    "print(basket_fruit)"
   ]
  },
  {
   "cell_type": "markdown",
   "id": "fde8b8d5",
   "metadata": {},
   "source": [
    "**Conditional Logics**"
   ]
  },
  {
   "cell_type": "code",
   "execution_count": 4,
   "id": "4fc39cc4",
   "metadata": {},
   "outputs": [
    {
     "name": "stdout",
     "output_type": "stream",
     "text": [
      "True\n",
      "False\n",
      "False\n",
      "False\n",
      "True\n",
      "False\n",
      "What is Your age12\n",
      "False\n"
     ]
    }
   ],
   "source": [
    "# Logical operators are either true or false yes or no or 0 or 1.\n",
    "# equal to     ==\n",
    "# not equal to !=\n",
    "# less then    <\n",
    "# greater then >\n",
    "# less then and equal to <=\n",
    "# greater then and equal to >=\n",
    "\n",
    "\n",
    "print(4==4)\n",
    "print(4>5)\n",
    "print(4!=4)\n",
    "print(4>=9)\n",
    "print(6<=8)\n",
    "\n",
    "\n",
    "wasim_age=7\n",
    "minimum_school_age=4\n",
    "print(wasim_age==minimum_school_age)\n",
    "\n",
    "\n",
    "minimum_age_at_school=5\n",
    "wasim_age2=input(\"What is Your age\")\n",
    "wasim_age2=int(wasim_age2)\n",
    "print(wasim_age2==minimum_age_at_school)"
   ]
  },
  {
   "cell_type": "markdown",
   "id": "33f3f46d",
   "metadata": {},
   "source": [
    "**Functions**"
   ]
  },
  {
   "cell_type": "code",
   "execution_count": 5,
   "id": "e2dd9bc8",
   "metadata": {},
   "outputs": [
    {
     "name": "stdout",
     "output_type": "stream",
     "text": [
      "My name is @Ahmad Wasim Khan\n",
      "My name is @Ahmad Wasim Khan\n",
      "My name is @Ahmad Wasim Khan\n",
      "My name is @Ahmad Wasim Khan\n",
      "University of Science and Technology (Bannu)\n",
      "University of Science and Technology (Bannu)\n",
      "University of Science and Technology (Bannu)\n",
      "University of Science and Technology (Bannu)\n",
      "University of Science and Technology (Bannu)\n",
      "University of Science and Technology (Bannu)\n",
      "Nizam Bazar Bannu\n",
      "Nizam Bazar Bannu\n",
      "Nizam Bazar Bannu\n",
      "Nizam Bazar Bannu\n",
      "Nizam Bazar Bannu\n",
      "Khurram are still baby\n",
      "70\n"
     ]
    }
   ],
   "source": [
    "# Method of defining Functions\n",
    "\n",
    "# Ist Method of defining Function\n",
    "from typing import Text\n",
    "\n",
    "\n",
    "def print_name():\n",
    "    print(\"My name is @Ahmad Wasim Khan\")\n",
    "    print(\"My name is @Ahmad Wasim Khan\")\n",
    "    print(\"My name is @Ahmad Wasim Khan\")\n",
    "    print(\"My name is @Ahmad Wasim Khan\")\n",
    "\n",
    "print_name()\n",
    "\n",
    "\n",
    "# 2nd Method of defining Function\n",
    "\n",
    "def my_university_name():\n",
    "    text=\"University of Science and Technology (Bannu)\"\n",
    "    print(text)\n",
    "    print(text)\n",
    "    print(text)\n",
    "    print(text)\n",
    "    print(text)\n",
    "    print(text)\n",
    "\n",
    "my_university_name()\n",
    "\n",
    "\n",
    "# 3rd Method of definig Function\n",
    "\n",
    "def my_address(text2):\n",
    "    print(text2)\n",
    "    print(text2)\n",
    "    print(text2)\n",
    "    print(text2)\n",
    "    print(text2)\n",
    "\n",
    "my_address(\"Nizam Bazar Bannu\")\n",
    "\n",
    "\n",
    "# 4th Method of defining Function including if, else, elif functions inside.\n",
    "\n",
    "\n",
    "def student_age_calculator(age):\n",
    "    if age==5:\n",
    "        print(\"Khurram can join school\")\n",
    "    elif age>=15:\n",
    "        print(\"Khurram can join College\")\n",
    "    else:\n",
    "        print(\"Khurram are still baby\")\n",
    "\n",
    "\n",
    "student_age_calculator(1)\n",
    "\n",
    "\n",
    "\n",
    "# def my_age(age):\n",
    "#     future_age=age+20\n",
    "#     return future_age\n",
    "\n",
    "# print(my_age(18))\n",
    "\n",
    "#  OR the my age (age) is also written as below\n",
    "\n",
    "def future_age(age):\n",
    "    new_age=age+20\n",
    "    return new_age\n",
    "    print(new_age)\n",
    "\n",
    "future_predicted_age=future_age(50)\n",
    "print(future_predicted_age)\n"
   ]
  },
  {
   "cell_type": "markdown",
   "id": "d94d0013",
   "metadata": {},
   "source": [
    "**If else elif functions**"
   ]
  },
  {
   "cell_type": "code",
   "execution_count": 8,
   "id": "30a855e9",
   "metadata": {},
   "outputs": [
    {
     "name": "stdout",
     "output_type": "stream",
     "text": [
      "How old is Khurram17\n",
      "<class 'str'>\n",
      "Yes! You can admitt your brother at school\n",
      "What is your age12\n",
      "12 Sorry! you have to pass 2nd year degree to admitt in University\n"
     ]
    }
   ],
   "source": [
    "# If , else , elif functions example\n",
    "\n",
    "\n",
    "khurram_age=input(\"How old is Khurram\")\n",
    "type(khurram_age)\n",
    "print(type(khurram_age))\n",
    "khurram_age=int(khurram_age)\n",
    "age_at_school=4\n",
    "if khurram_age>=age_at_school:\n",
    "    print(\"Yes! You can admitt your brother at school\")\n",
    "elif khurram_age<=age_at_school:\n",
    "    print(khurram_age,\"Sorry! Your brother is still baby\")\n",
    "\n",
    "\n",
    "university_required_age=18\n",
    "my_age=input(\"What is your age\")\n",
    "my_age=int(my_age)\n",
    "if my_age==university_required_age:\n",
    "    print(\"Yes You can join University\")\n",
    "elif my_age>=25:\n",
    "    print(\"Yes You can get your PHD degree\")\n",
    "elif my_age<=18:\n",
    "    print(my_age,\"Sorry! you have to pass 2nd year degree to admitt in University\")\n",
    "#  else:\n",
    "#     print(my_age,\"Sorry You are still not young to join university\")"
   ]
  },
  {
   "cell_type": "code",
   "execution_count": null,
   "id": "babac7b2",
   "metadata": {},
   "outputs": [],
   "source": []
  }
 ],
 "metadata": {
  "kernelspec": {
   "display_name": "Python 3 (ipykernel)",
   "language": "python",
   "name": "python3"
  },
  "language_info": {
   "codemirror_mode": {
    "name": "ipython",
    "version": 3
   },
   "file_extension": ".py",
   "mimetype": "text/x-python",
   "name": "python",
   "nbconvert_exporter": "python",
   "pygments_lexer": "ipython3",
   "version": "3.9.7"
  }
 },
 "nbformat": 4,
 "nbformat_minor": 5
}
