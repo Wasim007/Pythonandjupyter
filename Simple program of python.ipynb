{
 "cells": [
  {
   "cell_type": "code",
   "execution_count": 40,
   "id": "07c17123",
   "metadata": {},
   "outputs": [
    {
     "name": "stdout",
     "output_type": "stream",
     "text": [
      "Your height in meter1.33\n"
     ]
    }
   ],
   "source": [
    "height = input(\"Your height in meter\")\n",
    "height = float(height)"
   ]
  },
  {
   "cell_type": "code",
   "execution_count": 46,
   "id": "23c15375",
   "metadata": {},
   "outputs": [
    {
     "name": "stdout",
     "output_type": "stream",
     "text": [
      "Your weight88\n"
     ]
    },
    {
     "data": {
      "text/plain": [
       "int"
      ]
     },
     "execution_count": 46,
     "metadata": {},
     "output_type": "execute_result"
    }
   ],
   "source": [
    "weight = input(\"Your weight\")\n",
    "weight = int(weight)\n",
    "type(weight)"
   ]
  },
  {
   "cell_type": "code",
   "execution_count": 44,
   "id": "9d04679d",
   "metadata": {},
   "outputs": [
    {
     "name": "stdout",
     "output_type": "stream",
     "text": [
      "Your namejklsaj\n"
     ]
    },
    {
     "data": {
      "text/plain": [
       "str"
      ]
     },
     "execution_count": 44,
     "metadata": {},
     "output_type": "execute_result"
    }
   ],
   "source": [
    "name = input(\"Your name\")\n",
    "type(name)"
   ]
  },
  {
   "cell_type": "code",
   "execution_count": 47,
   "id": "9492856d",
   "metadata": {},
   "outputs": [
    {
     "data": {
      "text/plain": [
       "49.74843122844705"
      ]
     },
     "execution_count": 47,
     "metadata": {},
     "output_type": "execute_result"
    }
   ],
   "source": [
    "BMI = weight/height**2\n",
    "BMI\n"
   ]
  },
  {
   "cell_type": "code",
   "execution_count": 49,
   "id": "6447fb21",
   "metadata": {},
   "outputs": [
    {
     "name": "stdout",
     "output_type": "stream",
     "text": [
      "my name is  jklsaj My bmi is 49.74843122844705\n"
     ]
    }
   ],
   "source": [
    "print(\"my name is \", name, \"My bmi is\", BMI)"
   ]
  },
  {
   "cell_type": "code",
   "execution_count": null,
   "id": "d2d43602",
   "metadata": {},
   "outputs": [],
   "source": []
  }
 ],
 "metadata": {
  "kernelspec": {
   "display_name": "Python 3 (ipykernel)",
   "language": "python",
   "name": "python3"
  },
  "language_info": {
   "codemirror_mode": {
    "name": "ipython",
    "version": 3
   },
   "file_extension": ".py",
   "mimetype": "text/x-python",
   "name": "python",
   "nbconvert_exporter": "python",
   "pygments_lexer": "ipython3",
   "version": "3.9.7"
  }
 },
 "nbformat": 4,
 "nbformat_minor": 5
}
