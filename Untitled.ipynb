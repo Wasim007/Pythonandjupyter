{
 "cells": [
  {
   "cell_type": "code",
   "execution_count": 10,
   "id": "a3821fc1",
   "metadata": {},
   "outputs": [
    {
     "ename": "SyntaxError",
     "evalue": "(unicode error) 'unicodeescape' codec can't decode bytes in position 2-3: truncated \\UXXXXXXXX escape (Temp/ipykernel_1116/382532987.py, line 3)",
     "output_type": "error",
     "traceback": [
      "\u001b[1;36m  File \u001b[1;32m\"C:\\Users\\MR_WAS~1\\AppData\\Local\\Temp/ipykernel_1116/382532987.py\"\u001b[1;36m, line \u001b[1;32m3\u001b[0m\n\u001b[1;33m    titanicshipdatabase = sns.load_dataset(\"C:\\Users\\MR_WASEEM\\Desktop\\2015\")\u001b[0m\n\u001b[1;37m                                                                            ^\u001b[0m\n\u001b[1;31mSyntaxError\u001b[0m\u001b[1;31m:\u001b[0m (unicode error) 'unicodeescape' codec can't decode bytes in position 2-3: truncated \\UXXXXXXXX escape\n"
     ]
    }
   ],
   "source": [
    "import seaborn as sns\n",
    "import matplotlib.pyplot as plt\n",
    "titanicshipdatabase = sns.load_dataset(\"C:\\Users\\MR_WASEEM\\Desktop\\2015\")\n",
    "2015"
   ]
  },
  {
   "cell_type": "code",
   "execution_count": null,
   "id": "580549e7",
   "metadata": {},
   "outputs": [],
   "source": []
  }
 ],
 "metadata": {
  "kernelspec": {
   "display_name": "Python 3 (ipykernel)",
   "language": "python",
   "name": "python3"
  },
  "language_info": {
   "codemirror_mode": {
    "name": "ipython",
    "version": 3
   },
   "file_extension": ".py",
   "mimetype": "text/x-python",
   "name": "python",
   "nbconvert_exporter": "python",
   "pygments_lexer": "ipython3",
   "version": "3.9.7"
  }
 },
 "nbformat": 4,
 "nbformat_minor": 5
}
