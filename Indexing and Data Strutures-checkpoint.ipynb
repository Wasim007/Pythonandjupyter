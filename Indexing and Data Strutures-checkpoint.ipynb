{
 "cells": [
  {
   "cell_type": "markdown",
   "id": "223ff042",
   "metadata": {},
   "source": [
    "## [ Indexing ]"
   ]
  },
  {
   "cell_type": "code",
   "execution_count": 1,
   "id": "63e37891",
   "metadata": {},
   "outputs": [
    {
     "data": {
      "text/plain": [
       "'samoosa pakorra'"
      ]
     },
     "execution_count": 1,
     "metadata": {},
     "output_type": "execute_result"
    }
   ],
   "source": [
    "a= \"samoosa pakorra\"\n",
    "a"
   ]
  },
  {
   "cell_type": "code",
   "execution_count": 2,
   "id": "386b48a6",
   "metadata": {},
   "outputs": [
    {
     "data": {
      "text/plain": [
       "15"
      ]
     },
     "execution_count": 2,
     "metadata": {},
     "output_type": "execute_result"
    }
   ],
   "source": [
    "len(a)"
   ]
  },
  {
   "cell_type": "code",
   "execution_count": 3,
   "id": "89aca2b1",
   "metadata": {},
   "outputs": [
    {
     "data": {
      "text/plain": [
       "'a'"
      ]
     },
     "execution_count": 3,
     "metadata": {},
     "output_type": "execute_result"
    }
   ],
   "source": [
    "a[1]"
   ]
  },
  {
   "cell_type": "code",
   "execution_count": 4,
   "id": "5824f68c",
   "metadata": {},
   "outputs": [
    {
     "data": {
      "text/plain": [
       "'s'"
      ]
     },
     "execution_count": 4,
     "metadata": {},
     "output_type": "execute_result"
    }
   ],
   "source": [
    "a[0:1]"
   ]
  },
  {
   "cell_type": "code",
   "execution_count": 5,
   "id": "180f9b91",
   "metadata": {},
   "outputs": [
    {
     "data": {
      "text/plain": [
       "'samoosa pakorra'"
      ]
     },
     "execution_count": 5,
     "metadata": {},
     "output_type": "execute_result"
    }
   ],
   "source": [
    "a[0:15]"
   ]
  },
  {
   "cell_type": "code",
   "execution_count": 6,
   "id": "cf7e629a",
   "metadata": {},
   "outputs": [
    {
     "data": {
      "text/plain": [
       "'sa'"
      ]
     },
     "execution_count": 6,
     "metadata": {},
     "output_type": "execute_result"
    }
   ],
   "source": [
    "a[-15:2] # this only print the first sa character because the 13 character are in negative and "
   ]
  },
  {
   "cell_type": "markdown",
   "id": "4eb7aa62",
   "metadata": {},
   "source": [
    "## String Methods"
   ]
  },
  {
   "cell_type": "code",
   "execution_count": 7,
   "id": "d3871020",
   "metadata": {},
   "outputs": [
    {
     "data": {
      "text/plain": [
       "'biryani'"
      ]
     },
     "execution_count": 7,
     "metadata": {},
     "output_type": "execute_result"
    }
   ],
   "source": [
    "food = \"biryani\"\n",
    "food"
   ]
  },
  {
   "cell_type": "code",
   "execution_count": 8,
   "id": "097fcc04",
   "metadata": {},
   "outputs": [
    {
     "data": {
      "text/plain": [
       "'BIRYANI'"
      ]
     },
     "execution_count": 8,
     "metadata": {},
     "output_type": "execute_result"
    }
   ],
   "source": [
    "food.upper() #this function is used to transform the text to capital form all the characters"
   ]
  },
  {
   "cell_type": "code",
   "execution_count": 9,
   "id": "b9b920cd",
   "metadata": {},
   "outputs": [
    {
     "data": {
      "text/plain": [
       "'Biryani'"
      ]
     },
     "execution_count": 9,
     "metadata": {},
     "output_type": "execute_result"
    }
   ],
   "source": [
    "food.capitalize() # this function is used to change the begginer character to capital"
   ]
  },
  {
   "cell_type": "code",
   "execution_count": 10,
   "id": "49825a07",
   "metadata": {},
   "outputs": [
    {
     "data": {
      "text/plain": [
       "'biryani'"
      ]
     },
     "execution_count": 10,
     "metadata": {},
     "output_type": "execute_result"
    }
   ],
   "source": [
    "food.lower() # this function is used to change all characters to lower case"
   ]
  },
  {
   "cell_type": "code",
   "execution_count": 11,
   "id": "2567c25e",
   "metadata": {},
   "outputs": [
    {
     "data": {
      "text/plain": [
       "'ahmad wasim khan'"
      ]
     },
     "execution_count": 11,
     "metadata": {},
     "output_type": "execute_result"
    }
   ],
   "source": [
    "name = \"ahmad wasim khan\"\n",
    "name"
   ]
  },
  {
   "cell_type": "code",
   "execution_count": 12,
   "id": "dc862b6f",
   "metadata": {},
   "outputs": [
    {
     "data": {
      "text/plain": [
       "'MUHAMMAD wasim khan'"
      ]
     },
     "execution_count": 12,
     "metadata": {},
     "output_type": "execute_result"
    }
   ],
   "source": [
    "name.replace(\"ahmad\" , \"MUHAMMAD\") # replace function is used to replace the desired text as shown in the cell"
   ]
  },
  {
   "cell_type": "code",
   "execution_count": 13,
   "id": "57c59bad",
   "metadata": {},
   "outputs": [
    {
     "data": {
      "text/plain": [
       "4"
      ]
     },
     "execution_count": 13,
     "metadata": {},
     "output_type": "execute_result"
    }
   ],
   "source": [
    "name.count(\"a\") # count function is used to count the characters in the string for example \"a\" character are present 4 time in this string"
   ]
  },
  {
   "cell_type": "code",
   "execution_count": 14,
   "id": "f2510235",
   "metadata": {},
   "outputs": [
    {
     "data": {
      "text/plain": [
       "2"
      ]
     },
     "execution_count": 14,
     "metadata": {},
     "output_type": "execute_result"
    }
   ],
   "source": [
    "name.count(\"m\") # also \"m\" is present 2 times in this string"
   ]
  },
  {
   "cell_type": "code",
   "execution_count": 15,
   "id": "6d8eaca3",
   "metadata": {},
   "outputs": [
    {
     "data": {
      "text/plain": [
       "'i love data science'"
      ]
     },
     "execution_count": 15,
     "metadata": {},
     "output_type": "execute_result"
    }
   ],
   "source": [
    "science = \"i love data science\"\n",
    "science"
   ]
  },
  {
   "cell_type": "code",
   "execution_count": 16,
   "id": "6b265ec6",
   "metadata": {},
   "outputs": [
    {
     "data": {
      "text/plain": [
       "7"
      ]
     },
     "execution_count": 16,
     "metadata": {},
     "output_type": "execute_result"
    }
   ],
   "source": [
    "science.find(\"d\") # this find function is used to find in which index the character are present"
   ]
  },
  {
   "cell_type": "code",
   "execution_count": 17,
   "id": "b648c8f3",
   "metadata": {},
   "outputs": [
    {
     "data": {
      "text/plain": [
       "'my favorite foods is samoosa, pakorra , biryani , chawwal , chattni'"
      ]
     },
     "execution_count": 17,
     "metadata": {},
     "output_type": "execute_result"
    }
   ],
   "source": [
    "food1 = \"my favorite foods is samoosa, pakorra , biryani , chawwal , chattni\"\n",
    "food1"
   ]
  },
  {
   "cell_type": "code",
   "execution_count": 18,
   "id": "1917a8fa",
   "metadata": {},
   "outputs": [
    {
     "data": {
      "text/plain": [
       "['my favorite foods is samoosa',\n",
       " ' pakorra ',\n",
       " ' biryani ',\n",
       " ' chawwal ',\n",
       " ' chattni']"
      ]
     },
     "execution_count": 18,
     "metadata": {},
     "output_type": "execute_result"
    }
   ],
   "source": [
    "food1.split(\",\") #the split function is used to splite the character or words by any symbols etc."
   ]
  },
  {
   "cell_type": "markdown",
   "id": "b6d7e521",
   "metadata": {},
   "source": [
    "## Tuple\n",
    "- Ordered collection of elements\n",
    "- inclosed in round \"()\" braces/parenthesis\n",
    "- different kind of elements can be stored i.e float , integer , etc\n",
    "- Once elements can stored you can,t change"
   ]
  },
  {
   "cell_type": "code",
   "execution_count": 19,
   "id": "6e8b2e2d",
   "metadata": {},
   "outputs": [
    {
     "data": {
      "text/plain": [
       "(2, 'Python is Love', 2.34, True)"
      ]
     },
     "execution_count": 19,
     "metadata": {},
     "output_type": "execute_result"
    }
   ],
   "source": [
    "tup1 = (2,\"Python is Love\",2.34,True)\n",
    "tup1"
   ]
  },
  {
   "cell_type": "code",
   "execution_count": 20,
   "id": "f849bc93",
   "metadata": {},
   "outputs": [
    {
     "data": {
      "text/plain": [
       "tuple"
      ]
     },
     "execution_count": 20,
     "metadata": {},
     "output_type": "execute_result"
    }
   ],
   "source": [
    "type(tup1) #checking the type of tuple"
   ]
  },
  {
   "cell_type": "markdown",
   "id": "b6a66846",
   "metadata": {},
   "source": [
    "### Indexing in Tuple"
   ]
  },
  {
   "cell_type": "code",
   "execution_count": 21,
   "id": "1cc35ad6",
   "metadata": {},
   "outputs": [
    {
     "data": {
      "text/plain": [
       "2"
      ]
     },
     "execution_count": 21,
     "metadata": {},
     "output_type": "execute_result"
    }
   ],
   "source": [
    "tup1[0]\n",
    "# To check on which index the element are present"
   ]
  },
  {
   "cell_type": "code",
   "execution_count": 22,
   "id": "87cc028d",
   "metadata": {},
   "outputs": [
    {
     "data": {
      "text/plain": [
       "'Python is Love'"
      ]
     },
     "execution_count": 22,
     "metadata": {},
     "output_type": "execute_result"
    }
   ],
   "source": [
    "tup1[1] # Python is Love is considerd as one element in tuple"
   ]
  },
  {
   "cell_type": "code",
   "execution_count": 23,
   "id": "2269134c",
   "metadata": {},
   "outputs": [
    {
     "data": {
      "text/plain": [
       "(2, 'Python is Love', 2.34, True)"
      ]
     },
     "execution_count": 23,
     "metadata": {},
     "output_type": "execute_result"
    }
   ],
   "source": [
    "tup1[0:4] # in this method all elements will be printed"
   ]
  },
  {
   "cell_type": "code",
   "execution_count": 24,
   "id": "03a50a92",
   "metadata": {},
   "outputs": [
    {
     "data": {
      "text/plain": [
       "(2, 'Python is Love', 2.34, True, 2, 'Python is Love', 2.34, True)"
      ]
     },
     "execution_count": 24,
     "metadata": {},
     "output_type": "execute_result"
    }
   ],
   "source": [
    "tup1*2 # this function means that print all the elements 2 times"
   ]
  },
  {
   "cell_type": "code",
   "execution_count": 25,
   "id": "f6f16976",
   "metadata": {},
   "outputs": [
    {
     "data": {
      "text/plain": [
       "(2,\n",
       " 'Python is Love',\n",
       " 2.34,\n",
       " True,\n",
       " 2,\n",
       " 'Python is Love',\n",
       " 2.34,\n",
       " True,\n",
       " 2,\n",
       " 'Python is Love',\n",
       " 2.34,\n",
       " True)"
      ]
     },
     "execution_count": 25,
     "metadata": {},
     "output_type": "execute_result"
    }
   ],
   "source": [
    "tup1*3 #also this print the elements 3 times"
   ]
  },
  {
   "cell_type": "code",
   "execution_count": 26,
   "id": "fe058f68",
   "metadata": {},
   "outputs": [
    {
     "data": {
      "text/plain": [
       "4"
      ]
     },
     "execution_count": 26,
     "metadata": {},
     "output_type": "execute_result"
    }
   ],
   "source": [
    "len(tup1) # Length of elements in tuple 1"
   ]
  },
  {
   "cell_type": "code",
   "execution_count": 27,
   "id": "354ca0ff",
   "metadata": {},
   "outputs": [
    {
     "data": {
      "text/plain": [
       "('Khan', 'Ust bannu', False, 33.889)"
      ]
     },
     "execution_count": 27,
     "metadata": {},
     "output_type": "execute_result"
    }
   ],
   "source": [
    "tup2 = (\"Khan\", \"Ust bannu\",False,33.889)\n",
    "tup2"
   ]
  },
  {
   "cell_type": "code",
   "execution_count": 28,
   "id": "adece6e7",
   "metadata": {},
   "outputs": [
    {
     "data": {
      "text/plain": [
       "(2, 'Python is Love', 2.34, True, 'Khan', 'Ust bannu', False, 33.889)"
      ]
     },
     "execution_count": 28,
     "metadata": {},
     "output_type": "execute_result"
    }
   ],
   "source": [
    "tup1+tup2 #This will add two tuples tup1 and tup2"
   ]
  },
  {
   "cell_type": "code",
   "execution_count": 29,
   "id": "a5f30a53",
   "metadata": {},
   "outputs": [
    {
     "data": {
      "text/plain": [
       "(2,\n",
       " 'Python is Love',\n",
       " 2.34,\n",
       " True,\n",
       " 2,\n",
       " 'Python is Love',\n",
       " 2.34,\n",
       " True,\n",
       " 2,\n",
       " 'Python is Love',\n",
       " 2.34,\n",
       " True,\n",
       " 'Khan',\n",
       " 'Ust bannu',\n",
       " False,\n",
       " 33.889)"
      ]
     },
     "execution_count": 29,
     "metadata": {},
     "output_type": "execute_result"
    }
   ],
   "source": [
    "tup1*3 + tup2 # means that tup1 will be printed 3 times and tup2 will be print only one time"
   ]
  },
  {
   "cell_type": "code",
   "execution_count": 30,
   "id": "f2b1dab5",
   "metadata": {},
   "outputs": [
    {
     "data": {
      "text/plain": [
       "(20, 30, 40, 50, 60, 70)"
      ]
     },
     "execution_count": 30,
     "metadata": {},
     "output_type": "execute_result"
    }
   ],
   "source": [
    "tup3 = (20,30,40,50,60,70)\n",
    "tup3"
   ]
  },
  {
   "cell_type": "code",
   "execution_count": 31,
   "id": "0ab0f51f",
   "metadata": {},
   "outputs": [
    {
     "data": {
      "text/plain": [
       "6"
      ]
     },
     "execution_count": 31,
     "metadata": {},
     "output_type": "execute_result"
    }
   ],
   "source": [
    "len(tup3) # finding length of elements in tup3"
   ]
  },
  {
   "cell_type": "code",
   "execution_count": 32,
   "id": "336a62b2",
   "metadata": {},
   "outputs": [
    {
     "data": {
      "text/plain": [
       "20"
      ]
     },
     "execution_count": 32,
     "metadata": {},
     "output_type": "execute_result"
    }
   ],
   "source": [
    "min(tup3) # finding minimum element in tup3"
   ]
  },
  {
   "cell_type": "code",
   "execution_count": 33,
   "id": "12eb43f2",
   "metadata": {},
   "outputs": [
    {
     "data": {
      "text/plain": [
       "70"
      ]
     },
     "execution_count": 33,
     "metadata": {},
     "output_type": "execute_result"
    }
   ],
   "source": [
    "max(tup3) # finding maximum element in tuple3"
   ]
  },
  {
   "cell_type": "code",
   "execution_count": 34,
   "id": "75d77628",
   "metadata": {},
   "outputs": [
    {
     "data": {
      "text/plain": [
       "(20,\n",
       " 30,\n",
       " 40,\n",
       " 50,\n",
       " 60,\n",
       " 70,\n",
       " 20,\n",
       " 30,\n",
       " 40,\n",
       " 50,\n",
       " 60,\n",
       " 70,\n",
       " 20,\n",
       " 30,\n",
       " 40,\n",
       " 50,\n",
       " 60,\n",
       " 70,\n",
       " 20,\n",
       " 30,\n",
       " 40,\n",
       " 50,\n",
       " 60,\n",
       " 70)"
      ]
     },
     "execution_count": 34,
     "metadata": {},
     "output_type": "execute_result"
    }
   ],
   "source": [
    "tup3*4 # this will print tup3 four times"
   ]
  },
  {
   "cell_type": "markdown",
   "id": "126be134",
   "metadata": {},
   "source": [
    "### 2 - List\n",
    "- ordered collection of elements\n",
    "- enclosed in [ ] square braces/brackets\n",
    "- mutatable you can change the elements/values"
   ]
  },
  {
   "cell_type": "code",
   "execution_count": 35,
   "id": "723ba793",
   "metadata": {},
   "outputs": [
    {
     "data": {
      "text/plain": [
       "['Codanics Youtube channel', False, 202, 55.56]"
      ]
     },
     "execution_count": 35,
     "metadata": {},
     "output_type": "execute_result"
    }
   ],
   "source": [
    "list1 = [\"Codanics Youtube channel\", False, 202, 55.56]\n",
    "list1"
   ]
  },
  {
   "cell_type": "code",
   "execution_count": 36,
   "id": "5f7e293c",
   "metadata": {},
   "outputs": [
    {
     "data": {
      "text/plain": [
       "4"
      ]
     },
     "execution_count": 36,
     "metadata": {},
     "output_type": "execute_result"
    }
   ],
   "source": [
    "len(list1)#length of elements"
   ]
  },
  {
   "cell_type": "code",
   "execution_count": 37,
   "id": "503d6b4b",
   "metadata": {},
   "outputs": [
    {
     "data": {
      "text/plain": [
       "list"
      ]
     },
     "execution_count": 37,
     "metadata": {},
     "output_type": "execute_result"
    }
   ],
   "source": [
    "type(list1) #type of the list"
   ]
  },
  {
   "cell_type": "code",
   "execution_count": 38,
   "id": "310be323",
   "metadata": {},
   "outputs": [
    {
     "data": {
      "text/plain": [
       "'Codanics Youtube channel'"
      ]
     },
     "execution_count": 38,
     "metadata": {},
     "output_type": "execute_result"
    }
   ],
   "source": [
    "list1[0]    # to show elements on which index are present"
   ]
  },
  {
   "cell_type": "code",
   "execution_count": 39,
   "id": "aebe1e5e",
   "metadata": {},
   "outputs": [
    {
     "data": {
      "text/plain": [
       "['Codanics Youtube channel',\n",
       " False,\n",
       " 202,\n",
       " 55.56,\n",
       " 'Codanics Youtube channel',\n",
       " False,\n",
       " 202,\n",
       " 55.56,\n",
       " 'Codanics Youtube channel',\n",
       " False,\n",
       " 202,\n",
       " 55.56]"
      ]
     },
     "execution_count": 39,
     "metadata": {},
     "output_type": "execute_result"
    }
   ],
   "source": [
    "list1*3"
   ]
  },
  {
   "cell_type": "code",
   "execution_count": 40,
   "id": "05b0bf5c",
   "metadata": {},
   "outputs": [
    {
     "data": {
      "text/plain": [
       "['Codanics Youtube channel',\n",
       " False,\n",
       " 202,\n",
       " 55.56,\n",
       " 'Codanics Youtube channel',\n",
       " False,\n",
       " 202,\n",
       " 55.56]"
      ]
     },
     "execution_count": 40,
     "metadata": {},
     "output_type": "execute_result"
    }
   ],
   "source": [
    "list1+list1"
   ]
  },
  {
   "cell_type": "code",
   "execution_count": 41,
   "id": "a40cd158",
   "metadata": {},
   "outputs": [
    {
     "data": {
      "text/plain": [
       "[55.56, 202, False, 'Codanics Youtube channel']"
      ]
     },
     "execution_count": 41,
     "metadata": {},
     "output_type": "execute_result"
    }
   ],
   "source": [
    "list1.reverse() # this function will change the accending order to decending order\n",
    "list1"
   ]
  },
  {
   "cell_type": "code",
   "execution_count": 42,
   "id": "5b753233",
   "metadata": {},
   "outputs": [
    {
     "data": {
      "text/plain": [
       "[10, 20, 30, 40, 50, 60, 70, 80, 90, 100, 200]"
      ]
     },
     "execution_count": 42,
     "metadata": {},
     "output_type": "execute_result"
    }
   ],
   "source": [
    "list2 = [10,20,30,40,50,60,70,80,90,100,200]\n",
    "list2"
   ]
  },
  {
   "cell_type": "code",
   "execution_count": 43,
   "id": "f4c61fbd",
   "metadata": {},
   "outputs": [
    {
     "data": {
      "text/plain": [
       "[200, 100, 90, 80, 70, 60, 50, 40, 30, 20, 10]"
      ]
     },
     "execution_count": 43,
     "metadata": {},
     "output_type": "execute_result"
    }
   ],
   "source": [
    "list2.reverse()\n",
    "list2"
   ]
  },
  {
   "cell_type": "code",
   "execution_count": 44,
   "id": "2b1c662f",
   "metadata": {},
   "outputs": [
    {
     "data": {
      "text/plain": [
       "[200, 100, 90, 80, 70, 60, 50, 40, 30, 20, 10, 'AHMAD WASIM KHAN']"
      ]
     },
     "execution_count": 44,
     "metadata": {},
     "output_type": "execute_result"
    }
   ],
   "source": [
    "list2.append(\"AHMAD WASIM KHAN\") # this \"append\" function will add the \"ahmad wasim khan\" to the values of list2\n",
    "list2"
   ]
  },
  {
   "cell_type": "code",
   "execution_count": 45,
   "id": "5039d9dd",
   "metadata": {},
   "outputs": [
    {
     "data": {
      "text/plain": [
       "12"
      ]
     },
     "execution_count": 45,
     "metadata": {},
     "output_type": "execute_result"
    }
   ],
   "source": [
    "len(list2)"
   ]
  },
  {
   "cell_type": "code",
   "execution_count": 46,
   "id": "60dba7e1",
   "metadata": {},
   "outputs": [
    {
     "data": {
      "text/plain": [
       "[20, 48, 596, 5, 68, 45, 60, 67, 30, 29, 40, 68, 47, 50, 90]"
      ]
     },
     "execution_count": 46,
     "metadata": {},
     "output_type": "execute_result"
    }
   ],
   "source": [
    "list3 = [20,48,596,5,68,45,60,67,30,29,40,68,47,50,90]\n",
    "list3"
   ]
  },
  {
   "cell_type": "code",
   "execution_count": 47,
   "id": "84da411e",
   "metadata": {},
   "outputs": [
    {
     "data": {
      "text/plain": [
       "15"
      ]
     },
     "execution_count": 47,
     "metadata": {},
     "output_type": "execute_result"
    }
   ],
   "source": [
    "len(list3)"
   ]
  },
  {
   "cell_type": "code",
   "execution_count": 48,
   "id": "e4993ed5",
   "metadata": {},
   "outputs": [
    {
     "data": {
      "text/plain": [
       "[5, 20, 29, 30, 40, 45, 47, 48, 50, 60, 67, 68, 68, 90, 596]"
      ]
     },
     "execution_count": 48,
     "metadata": {},
     "output_type": "execute_result"
    }
   ],
   "source": [
    "list3.sort()    # THIS FUNCTION WILL SORT THE NUMBER\n",
    "list3"
   ]
  },
  {
   "cell_type": "markdown",
   "id": "9aa8d73d",
   "metadata": {},
   "source": [
    "### - Count function is assignment\n",
    "- i will check later with internet"
   ]
  },
  {
   "cell_type": "code",
   "execution_count": 49,
   "id": "762ead8d",
   "metadata": {},
   "outputs": [
    {
     "data": {
      "text/plain": [
       "[5,\n",
       " 20,\n",
       " 29,\n",
       " 30,\n",
       " 40,\n",
       " 45,\n",
       " 47,\n",
       " 48,\n",
       " 50,\n",
       " 60,\n",
       " 67,\n",
       " 68,\n",
       " 68,\n",
       " 90,\n",
       " 596,\n",
       " 5,\n",
       " 20,\n",
       " 29,\n",
       " 30,\n",
       " 40,\n",
       " 45,\n",
       " 47,\n",
       " 48,\n",
       " 50,\n",
       " 60,\n",
       " 67,\n",
       " 68,\n",
       " 68,\n",
       " 90,\n",
       " 596,\n",
       " 5,\n",
       " 20,\n",
       " 29,\n",
       " 30,\n",
       " 40,\n",
       " 45,\n",
       " 47,\n",
       " 48,\n",
       " 50,\n",
       " 60,\n",
       " 67,\n",
       " 68,\n",
       " 68,\n",
       " 90,\n",
       " 596]"
      ]
     },
     "execution_count": 49,
     "metadata": {},
     "output_type": "execute_result"
    }
   ],
   "source": [
    "list3*3 #this function will repeat the values three times"
   ]
  },
  {
   "cell_type": "code",
   "execution_count": 50,
   "id": "5ff8f322",
   "metadata": {},
   "outputs": [
    {
     "data": {
      "text/plain": [
       "[55.56,\n",
       " 202,\n",
       " False,\n",
       " 'Codanics Youtube channel',\n",
       " 5,\n",
       " 20,\n",
       " 29,\n",
       " 30,\n",
       " 40,\n",
       " 45,\n",
       " 47,\n",
       " 48,\n",
       " 50,\n",
       " 60,\n",
       " 67,\n",
       " 68,\n",
       " 68,\n",
       " 90,\n",
       " 596]"
      ]
     },
     "execution_count": 50,
     "metadata": {},
     "output_type": "execute_result"
    }
   ],
   "source": [
    "list1 + list3 #this function will add list 1 and list2"
   ]
  },
  {
   "cell_type": "markdown",
   "id": "5a6765ab",
   "metadata": {},
   "source": [
    "## 3 - Dictionaries\n",
    "- An unordered collection of elements\n",
    "- Keys with values\n",
    "- curly { } braces/brackets\n",
    "- Mutatable/ you may change values"
   ]
  },
  {
   "cell_type": "code",
   "execution_count": 51,
   "id": "8461a458",
   "metadata": {},
   "outputs": [
    {
     "data": {
      "text/plain": [
       "{'Samoosa': 20, 'Pakorra': 100, 'Salad': 10, 'Biryani': 200, 'Karrahi': 1200}"
      ]
     },
     "execution_count": 51,
     "metadata": {},
     "output_type": "execute_result"
    }
   ],
   "source": [
    "# Foods and thier prices\n",
    "food1 = {\"Samoosa\":20, \"Pakorra\":100, \"Salad\":10, \"Biryani\":200, \"Karrahi\":1200}\n",
    "food1"
   ]
  },
  {
   "cell_type": "code",
   "execution_count": 52,
   "id": "fe30a89e",
   "metadata": {},
   "outputs": [
    {
     "data": {
      "text/plain": [
       "dict"
      ]
     },
     "execution_count": 52,
     "metadata": {},
     "output_type": "execute_result"
    }
   ],
   "source": [
    "type(food1)"
   ]
  },
  {
   "cell_type": "code",
   "execution_count": 53,
   "id": "d66b4a04",
   "metadata": {},
   "outputs": [
    {
     "data": {
      "text/plain": [
       "5"
      ]
     },
     "execution_count": 53,
     "metadata": {},
     "output_type": "execute_result"
    }
   ],
   "source": [
    "len(food1)"
   ]
  },
  {
   "cell_type": "code",
   "execution_count": 54,
   "id": "4bad512f",
   "metadata": {},
   "outputs": [
    {
     "data": {
      "text/plain": [
       "dict_keys(['Samoosa', 'Pakorra', 'Salad', 'Biryani', 'Karrahi'])"
      ]
     },
     "execution_count": 54,
     "metadata": {},
     "output_type": "execute_result"
    }
   ],
   "source": [
    "food1.keys() # this function will extract the keys such as samoosa pakkorra etc"
   ]
  },
  {
   "cell_type": "code",
   "execution_count": 55,
   "id": "6a15c587",
   "metadata": {},
   "outputs": [
    {
     "data": {
      "text/plain": [
       "dict_values([20, 100, 10, 200, 1200])"
      ]
     },
     "execution_count": 55,
     "metadata": {},
     "output_type": "execute_result"
    }
   ],
   "source": [
    "food1.values() # this function will extract the values of keys as below"
   ]
  },
  {
   "cell_type": "code",
   "execution_count": 56,
   "id": "0a1bb661",
   "metadata": {},
   "outputs": [
    {
     "data": {
      "text/plain": [
       "{'Samoosa': 20,\n",
       " 'Pakorra': 100,\n",
       " 'Salad': 10,\n",
       " 'Biryani': 200,\n",
       " 'Karrahi': 1200,\n",
       " 'Kheer': 120}"
      ]
     },
     "execution_count": 56,
     "metadata": {},
     "output_type": "execute_result"
    }
   ],
   "source": [
    "food1[\"Kheer\"]=120  # by this method we add new value to the dictionary as shown below \"Kheer:120\"\n",
    "food1"
   ]
  },
  {
   "cell_type": "code",
   "execution_count": 57,
   "id": "337675d9",
   "metadata": {},
   "outputs": [
    {
     "data": {
      "text/plain": [
       "{'Samoosa': 20,\n",
       " 'Pakorra': 100,\n",
       " 'Salad': 10,\n",
       " 'Biryani': 200,\n",
       " 'Karrahi': 1200,\n",
       " 'Kheer': 300}"
      ]
     },
     "execution_count": 57,
     "metadata": {},
     "output_type": "execute_result"
    }
   ],
   "source": [
    "food1[\"Kheer\"]=300  #to update the or change the value of keys \"Kheer\" we use this method\n",
    "food1"
   ]
  },
  {
   "cell_type": "code",
   "execution_count": 58,
   "id": "58ece779",
   "metadata": {},
   "outputs": [
    {
     "data": {
      "text/plain": [
       "{'Dates': 1000, 'Sawayya': 1500, 'Chocolates': 300}"
      ]
     },
     "execution_count": 58,
     "metadata": {},
     "output_type": "execute_result"
    }
   ],
   "source": [
    "food2 = {\"Dates\":1000, \"Sawayya\":1500, \"Chocolates\":300}\n",
    "food2"
   ]
  },
  {
   "cell_type": "code",
   "execution_count": 59,
   "id": "af25216d",
   "metadata": {},
   "outputs": [
    {
     "data": {
      "text/plain": [
       "{'Samoosa': 20,\n",
       " 'Pakorra': 100,\n",
       " 'Salad': 10,\n",
       " 'Biryani': 200,\n",
       " 'Karrahi': 1200,\n",
       " 'Kheer': 300,\n",
       " 'Dates': 1000,\n",
       " 'Sawayya': 1500,\n",
       " 'Chocolates': 300}"
      ]
     },
     "execution_count": 59,
     "metadata": {},
     "output_type": "execute_result"
    }
   ],
   "source": [
    "# adding or concatination the two dictionaries\n",
    "food1.update(food2)\n",
    "food1"
   ]
  },
  {
   "cell_type": "markdown",
   "id": "7170f42e",
   "metadata": {},
   "source": [
    "## -4 Sets\n",
    "- Unordered and unindexed\n",
    "- curly { } braces are used\n",
    "- No duplicates allowed"
   ]
  },
  {
   "cell_type": "code",
   "execution_count": 60,
   "id": "603f1d32",
   "metadata": {},
   "outputs": [
    {
     "data": {
      "text/plain": [
       "{5, 5.5, 67.7, True, 'Wasim Khan'}"
      ]
     },
     "execution_count": 60,
     "metadata": {},
     "output_type": "execute_result"
    }
   ],
   "source": [
    "s1 = {\"Wasim Khan\", 5, 5.5, True, 67.7}\n",
    "s1"
   ]
  },
  {
   "cell_type": "code",
   "execution_count": 61,
   "id": "10afc100",
   "metadata": {},
   "outputs": [
    {
     "data": {
      "text/plain": [
       "5"
      ]
     },
     "execution_count": 61,
     "metadata": {},
     "output_type": "execute_result"
    }
   ],
   "source": [
    "len(s1)"
   ]
  },
  {
   "cell_type": "code",
   "execution_count": 62,
   "id": "2a5141f8",
   "metadata": {},
   "outputs": [
    {
     "data": {
      "text/plain": [
       "{5, 5.5, 67.7, 'Ahmad', True, 'Wasim Khan'}"
      ]
     },
     "execution_count": 62,
     "metadata": {},
     "output_type": "execute_result"
    }
   ],
   "source": [
    "s1.add(\"Ahmad\") # to add new element to set we use this method\n",
    "s1"
   ]
  },
  {
   "cell_type": "code",
   "execution_count": 63,
   "id": "81a35369",
   "metadata": {},
   "outputs": [
    {
     "data": {
      "text/plain": [
       "{5, 5.5, 67.7, 'Ahmad', 'Wasim Khan'}"
      ]
     },
     "execution_count": 63,
     "metadata": {},
     "output_type": "execute_result"
    }
   ],
   "source": [
    "s1.remove(True) # to remove element from set we use this method\n",
    "s1"
   ]
  },
  {
   "cell_type": "code",
   "execution_count": 64,
   "id": "35200416",
   "metadata": {},
   "outputs": [
    {
     "data": {
      "text/plain": [
       "{5, 5.5, 67.7, 'Ahmad', 'Wasim Khan'}"
      ]
     },
     "execution_count": 64,
     "metadata": {},
     "output_type": "execute_result"
    }
   ],
   "source": [
    "s1.add(\"Wasim Khan\") # \"to be Note\" dublicates are not added\n",
    "s1"
   ]
  }
 ],
 "metadata": {
  "kernelspec": {
   "display_name": "Python 3 (ipykernel)",
   "language": "python",
   "name": "python3"
  },
  "language_info": {
   "codemirror_mode": {
    "name": "ipython",
    "version": 3
   },
   "file_extension": ".py",
   "mimetype": "text/x-python",
   "name": "python",
   "nbconvert_exporter": "python",
   "pygments_lexer": "ipython3",
   "version": "3.9.7"
  }
 },
 "nbformat": 4,
 "nbformat_minor": 5
}
